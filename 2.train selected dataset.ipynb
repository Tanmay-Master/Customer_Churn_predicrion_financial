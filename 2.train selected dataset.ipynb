{
 "cells": [
  {
   "cell_type": "markdown",
   "id": "9eb6ab2b-e171-47c3-a95a-62a707cd2a0e",
   "metadata": {},
   "source": [
    "# Load Dataset"
   ]
  },
  {
   "cell_type": "code",
   "execution_count": 2,
   "id": "f68c3a0d-485f-4e17-b349-63d91331babe",
   "metadata": {},
   "outputs": [],
   "source": [
    "# import libraires\n",
    "import pandas as pd\n",
    "import joblib\n",
    "import numpy as np\n",
    "import seaborn as sns\n",
    "from sklearn.model_selection import train_test_split\n",
    "from sklearn.linear_model import LogisticRegression\n",
    "from sklearn.ensemble import RandomForestClassifier\n",
    "from xgboost import XGBClassifier\n",
    "from lightgbm import LGBMClassifier\n",
    "from catboost import CatBoostClassifier\n",
    "from sklearn.metrics import accuracy_score, f1_score, roc_auc_score"
   ]
  },
  {
   "cell_type": "code",
   "execution_count": 3,
   "id": "5e91c432-e59e-450f-873e-d2d7bd4d94b5",
   "metadata": {},
   "outputs": [],
   "source": [
    "df=pd.read_csv(\"Selected_features.csv\")"
   ]
  },
  {
   "cell_type": "code",
   "execution_count": 4,
   "id": "baa3c0bb-01d3-4a97-83a8-5433b5c8bb30",
   "metadata": {},
   "outputs": [
    {
     "name": "stdout",
     "output_type": "stream",
     "text": [
      "<class 'pandas.core.frame.DataFrame'>\n",
      "RangeIndex: 15288 entries, 0 to 15287\n",
      "Data columns (total 10 columns):\n",
      " #   Column                Non-Null Count  Dtype  \n",
      "---  ------                --------------  -----  \n",
      " 0   Unnamed: 0            15288 non-null  int64  \n",
      " 1   Total Logins          15288 non-null  float64\n",
      " 2   Tickets Raised        15288 non-null  float64\n",
      " 3   Customer Tenuer Year  15288 non-null  int64  \n",
      " 4   Sentiment Score       15288 non-null  float64\n",
      " 5   Onboarding Year       15288 non-null  int64  \n",
      " 6   Loans Accessed        15288 non-null  int64  \n",
      " 7   Loans Taken           15288 non-null  int64  \n",
      " 8   Monthly Avg Balance   15288 non-null  float64\n",
      " 9   Churned               15288 non-null  int64  \n",
      "dtypes: float64(4), int64(6)\n",
      "memory usage: 1.2 MB\n"
     ]
    }
   ],
   "source": [
    "df.info()"
   ]
  },
  {
   "cell_type": "code",
   "execution_count": 4,
   "id": "76c31560-2f7c-45c2-b273-070dcd3d0758",
   "metadata": {},
   "outputs": [],
   "source": [
    "X= df.drop([\"Unnamed: 0\",\"Churned\"],axis=1)\n",
    "y=df[\"Churned\"]"
   ]
  },
  {
   "cell_type": "code",
   "execution_count": 5,
   "id": "9ed97b02-344e-4ee5-9700-b9dd567794e9",
   "metadata": {},
   "outputs": [],
   "source": [
    "models={\n",
    "    \"LogisticRegression\": LogisticRegression(max_iter=1000),\n",
    "    \"RandomeForestClassifier\":RandomForestClassifier(),\n",
    "    \"XGBClassifier\":XGBClassifier(),\n",
    "    \"LGBMClassifier\":LGBMClassifier(),\n",
    "    \"CatBoostClassifier\":CatBoostClassifier(verbose=0),\n",
    "}\n",
    "X_train,X_test,y_train,y_test=train_test_split(X,y,test_size=0.2,random_state=42)"
   ]
  },
  {
   "cell_type": "code",
   "execution_count": 6,
   "id": "73893f44-1d9b-4639-8f62-919cdbf189f4",
   "metadata": {},
   "outputs": [
    {
     "name": "stdout",
     "output_type": "stream",
     "text": [
      "Training LogisticRegression.....\n",
      "LogisticRegression model saved\n",
      "Training RandomeForestClassifier.....\n",
      "RandomeForestClassifier model saved\n",
      "Training XGBClassifier.....\n",
      "XGBClassifier model saved\n",
      "Training LGBMClassifier.....\n",
      "[LightGBM] [Warning] Found whitespace in feature_names, replace with underlines\n",
      "[LightGBM] [Info] Number of positive: 6085, number of negative: 6145\n",
      "[LightGBM] [Info] Auto-choosing col-wise multi-threading, the overhead of testing was 0.000604 seconds.\n",
      "You can set `force_col_wise=true` to remove the overhead.\n",
      "[LightGBM] [Info] Total Bins 1065\n",
      "[LightGBM] [Info] Number of data points in the train set: 12230, number of used features: 8\n",
      "[LightGBM] [Info] [binary:BoostFromScore]: pavg=0.497547 -> initscore=-0.009812\n",
      "[LightGBM] [Info] Start training from score -0.009812\n"
     ]
    },
    {
     "name": "stderr",
     "output_type": "stream",
     "text": [
      "C:\\ProgramData\\anaconda3\\Lib\\site-packages\\joblib\\externals\\loky\\backend\\context.py:136: UserWarning: Could not find the number of physical cores for the following reason:\n",
      "[WinError 2] The system cannot find the file specified\n",
      "Returning the number of logical cores instead. You can silence this warning by setting LOKY_MAX_CPU_COUNT to the number of cores you want to use.\n",
      "  warnings.warn(\n",
      "  File \"C:\\ProgramData\\anaconda3\\Lib\\site-packages\\joblib\\externals\\loky\\backend\\context.py\", line 257, in _count_physical_cores\n",
      "    cpu_info = subprocess.run(\n",
      "               ^^^^^^^^^^^^^^^\n",
      "  File \"C:\\ProgramData\\anaconda3\\Lib\\subprocess.py\", line 548, in run\n",
      "    with Popen(*popenargs, **kwargs) as process:\n",
      "         ^^^^^^^^^^^^^^^^^^^^^^^^^^^\n",
      "  File \"C:\\ProgramData\\anaconda3\\Lib\\subprocess.py\", line 1026, in __init__\n",
      "    self._execute_child(args, executable, preexec_fn, close_fds,\n",
      "  File \"C:\\ProgramData\\anaconda3\\Lib\\subprocess.py\", line 1538, in _execute_child\n",
      "    hp, ht, pid, tid = _winapi.CreateProcess(executable, args,\n",
      "                       ^^^^^^^^^^^^^^^^^^^^^^^^^^^^^^^^^^^^^^^\n"
     ]
    },
    {
     "name": "stdout",
     "output_type": "stream",
     "text": [
      "LGBMClassifier model saved\n",
      "Training CatBoostClassifier.....\n",
      "CatBoostClassifier model saved\n",
      "Training Completed.\n"
     ]
    }
   ],
   "source": [
    "results=[]\n",
    "for name, model in models.items():\n",
    "    print(f\"Training {name}.....\")\n",
    "    model.fit(X_train,y_train)\n",
    "    \n",
    "    pred=model.predict(X_test)\n",
    "    prob=model.predict_proba(X_test)[:,1]\n",
    "    accuracy = accuracy_score(y_test,pred)\n",
    "    f1 = f1_score(y_test,pred)\n",
    "    auc = roc_auc_score(y_test,prob)\n",
    "    results.append({\n",
    "        'Model':name,\n",
    "        'Accuracy':accuracy,\n",
    "        'F1 Score': f1,\n",
    "        'ROC AUC': auc\n",
    "    })\n",
    "    joblib.dump(model, f\"selected{name}.pkl\")\n",
    "    print(f\"{name} model saved\")\n",
    "\n",
    "print(\"Training Completed.\")\n",
    "result_df = pd.DataFrame(results)"
   ]
  },
  {
   "cell_type": "code",
   "execution_count": 7,
   "id": "d845cf9e-d1e6-4a92-a063-74fe4c650558",
   "metadata": {},
   "outputs": [
    {
     "data": {
      "text/html": [
       "<div>\n",
       "<style scoped>\n",
       "    .dataframe tbody tr th:only-of-type {\n",
       "        vertical-align: middle;\n",
       "    }\n",
       "\n",
       "    .dataframe tbody tr th {\n",
       "        vertical-align: top;\n",
       "    }\n",
       "\n",
       "    .dataframe thead th {\n",
       "        text-align: right;\n",
       "    }\n",
       "</style>\n",
       "<table border=\"1\" class=\"dataframe\">\n",
       "  <thead>\n",
       "    <tr style=\"text-align: right;\">\n",
       "      <th></th>\n",
       "      <th>Model</th>\n",
       "      <th>Accuracy</th>\n",
       "      <th>F1 Score</th>\n",
       "      <th>ROC AUC</th>\n",
       "    </tr>\n",
       "  </thead>\n",
       "  <tbody>\n",
       "    <tr>\n",
       "      <th>0</th>\n",
       "      <td>LogisticRegression</td>\n",
       "      <td>0.837802</td>\n",
       "      <td>0.839482</td>\n",
       "      <td>0.917399</td>\n",
       "    </tr>\n",
       "    <tr>\n",
       "      <th>1</th>\n",
       "      <td>RandomeForestClassifier</td>\n",
       "      <td>0.913342</td>\n",
       "      <td>0.914100</td>\n",
       "      <td>0.971897</td>\n",
       "    </tr>\n",
       "    <tr>\n",
       "      <th>2</th>\n",
       "      <td>XGBClassifier</td>\n",
       "      <td>0.920209</td>\n",
       "      <td>0.919895</td>\n",
       "      <td>0.974438</td>\n",
       "    </tr>\n",
       "    <tr>\n",
       "      <th>3</th>\n",
       "      <td>LGBMClassifier</td>\n",
       "      <td>0.921190</td>\n",
       "      <td>0.920906</td>\n",
       "      <td>0.976397</td>\n",
       "    </tr>\n",
       "    <tr>\n",
       "      <th>4</th>\n",
       "      <td>CatBoostClassifier</td>\n",
       "      <td>0.923479</td>\n",
       "      <td>0.922976</td>\n",
       "      <td>0.977162</td>\n",
       "    </tr>\n",
       "  </tbody>\n",
       "</table>\n",
       "</div>"
      ],
      "text/plain": [
       "                     Model  Accuracy  F1 Score   ROC AUC\n",
       "0       LogisticRegression  0.837802  0.839482  0.917399\n",
       "1  RandomeForestClassifier  0.913342  0.914100  0.971897\n",
       "2            XGBClassifier  0.920209  0.919895  0.974438\n",
       "3           LGBMClassifier  0.921190  0.920906  0.976397\n",
       "4       CatBoostClassifier  0.923479  0.922976  0.977162"
      ]
     },
     "execution_count": 7,
     "metadata": {},
     "output_type": "execute_result"
    }
   ],
   "source": [
    "result_df"
   ]
  },
  {
   "cell_type": "code",
   "execution_count": null,
   "id": "7eeacba4-58be-480f-9994-4b8fdade0cf5",
   "metadata": {},
   "outputs": [],
   "source": []
  }
 ],
 "metadata": {
  "kernelspec": {
   "display_name": "Python [conda env:base] *",
   "language": "python",
   "name": "conda-base-py"
  },
  "language_info": {
   "codemirror_mode": {
    "name": "ipython",
    "version": 3
   },
   "file_extension": ".py",
   "mimetype": "text/x-python",
   "name": "python",
   "nbconvert_exporter": "python",
   "pygments_lexer": "ipython3",
   "version": "3.12.7"
  }
 },
 "nbformat": 4,
 "nbformat_minor": 5
}
